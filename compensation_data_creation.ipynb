{
  "nbformat": 4,
  "nbformat_minor": 0,
  "metadata": {
    "colab": {
      "provenance": [],
      "authorship_tag": "ABX9TyP2WBmnHvW1zX/9jMG5za1n",
      "include_colab_link": true
    },
    "kernelspec": {
      "name": "python3",
      "display_name": "Python 3"
    },
    "language_info": {
      "name": "python"
    }
  },
  "cells": [
    {
      "cell_type": "markdown",
      "metadata": {
        "id": "view-in-github",
        "colab_type": "text"
      },
      "source": [
        "<a href=\"https://colab.research.google.com/github/cbonnin88/Compensation_Analysis/blob/main/compensation_data_creation.ipynb\" target=\"_parent\"><img src=\"https://colab.research.google.com/assets/colab-badge.svg\" alt=\"Open In Colab\"/></a>"
      ]
    },
    {
      "cell_type": "code",
      "source": [
        "!pip install Faker"
      ],
      "metadata": {
        "colab": {
          "base_uri": "https://localhost:8080/"
        },
        "id": "95fftslFUIYt",
        "outputId": "923bfab5-fd85-4cb5-e500-d9efbffd7e3a"
      },
      "execution_count": 2,
      "outputs": [
        {
          "output_type": "stream",
          "name": "stdout",
          "text": [
            "Collecting Faker\n",
            "  Downloading faker-37.5.3-py3-none-any.whl.metadata (15 kB)\n",
            "Requirement already satisfied: tzdata in /usr/local/lib/python3.11/dist-packages (from Faker) (2025.2)\n",
            "Downloading faker-37.5.3-py3-none-any.whl (1.9 MB)\n",
            "\u001b[2K   \u001b[90m━━━━━━━━━━━━━━━━━━━━━━━━━━━━━━━━━━━━━━━━\u001b[0m \u001b[32m1.9/1.9 MB\u001b[0m \u001b[31m19.6 MB/s\u001b[0m eta \u001b[36m0:00:00\u001b[0m\n",
            "\u001b[?25hInstalling collected packages: Faker\n",
            "Successfully installed Faker-37.5.3\n"
          ]
        }
      ]
    },
    {
      "cell_type": "code",
      "execution_count": 3,
      "metadata": {
        "id": "f0_AFpxEiaac"
      },
      "outputs": [],
      "source": [
        "import polars as pl\n",
        "from faker import Faker\n",
        "import random"
      ]
    },
    {
      "cell_type": "code",
      "source": [
        "fake = Faker()"
      ],
      "metadata": {
        "id": "U11vocdPi5U5"
      },
      "execution_count": 4,
      "outputs": []
    },
    {
      "cell_type": "code",
      "source": [
        "num_employees = 100000"
      ],
      "metadata": {
        "id": "y_JHrXYli7qG"
      },
      "execution_count": 5,
      "outputs": []
    },
    {
      "cell_type": "code",
      "source": [
        "department_jobs = {\n",
        "    'Engineering & IT': [\n",
        "        'Frontend Engineer', 'Backend Engineer', 'Senior Software Engineer',\n",
        "        'DevOps Engineer', 'Site Reliability Engineer', 'IT Support Specialist',\n",
        "        'Cloud Architect', 'Security Analyst', 'Database Administrator',\n",
        "        'Quality Assurance Engineer', 'Systems Administrator', 'Network Engineer','Cloud Engineer'\n",
        "    ],\n",
        "    'Data & Analytics': [\n",
        "        'Data Scientist', 'Data Analyst', 'Data Engineer', 'Machine Learning Engineer',\n",
        "        'Business Intelligence Analyst', 'Analytics Engineer'\n",
        "    ],\n",
        "    'Product & Design': [\n",
        "        'Product Manager', 'UX/UI Designer', 'Product Owner', 'User Researcher',\n",
        "        'Technical Writer','Product Analyst'\n",
        "    ],\n",
        "    'Sales & Business Development': [\n",
        "        'Account Executive', 'Sales Development Representative', 'Customer Success Manager',\n",
        "        'Sales Manager', 'Solutions Architect', 'Partnerships Manager','Sales Analyst'\n",
        "    ],\n",
        "    'Marketing': [\n",
        "        'Marketing Manager', 'Content Strategist', 'SEO Specialist',\n",
        "        'Social Media Manager', 'Digital Marketing Specialist', 'Product Marketing Manager','Marketing Analyst'\n",
        "    ],\n",
        "    'Human Resources & Operations': [\n",
        "        'HR Specialist', 'Recruiter', 'HR Business Partner', 'Office Manager',\n",
        "        'Operations Analyst', 'Learning & Development Coordinator','People Analyst','Compensation Analyst'\n",
        "    ],\n",
        "    'Finance & Legal': [\n",
        "        'Accountant', 'Financial Analyst', 'Controller', 'Paralegal', 'Compliance Officer'\n",
        "    ]\n",
        "}\n"
      ],
      "metadata": {
        "id": "u1ZOz_ERoxVy"
      },
      "execution_count": 6,
      "outputs": []
    },
    {
      "cell_type": "code",
      "source": [
        "country_cities = {\n",
        "    'United Kingdom':['London','Edinburgh'],\n",
        "    'France':['Paris','Lyon','Nantes','Bordeaux','Lille'],\n",
        "    'Germany':['Berlin','Dusseldorf','Frankfurt','Cologne','Bonn'],\n",
        "    'Denmark':['Copenhagen'],\n",
        "    'Norway':['Oslo']\n",
        "}"
      ],
      "metadata": {
        "id": "EUDfXoXvrZb_"
      },
      "execution_count": 7,
      "outputs": []
    },
    {
      "cell_type": "code",
      "source": [
        "work_models = ['Remote','Hybrid','On-site']"
      ],
      "metadata": {
        "id": "QfHNPrM-r9RM"
      },
      "execution_count": 8,
      "outputs": []
    },
    {
      "cell_type": "code",
      "source": [
        "department_codes = {\n",
        "    'Engineering & IT': 'ENG',\n",
        "    'Data & Analytics': 'DAT',\n",
        "    'Product & Design': 'PROD',\n",
        "    'Sales & Business Development': 'SAL',\n",
        "    'Marketing': 'MKT',\n",
        "    'Human Resources & Operations': 'HR',\n",
        "    'Finance & Legal': 'FIN'\n",
        "}"
      ],
      "metadata": {
        "id": "noaxqs3gwWJt"
      },
      "execution_count": 9,
      "outputs": []
    },
    {
      "cell_type": "code",
      "source": [
        "department_counters = {\n",
        "    'ENG': 1001,\n",
        "    'DAT': 1001,\n",
        "    'PROD': 1001,\n",
        "    'SAL': 1001,\n",
        "    'MKT': 1001,\n",
        "    'HR': 1001,\n",
        "    'FIN': 1001\n",
        "}"
      ],
      "metadata": {
        "id": "titBqBxXwcZM"
      },
      "execution_count": 10,
      "outputs": []
    },
    {
      "cell_type": "code",
      "source": [
        "comp_data = []\n",
        "department_list = list(department_jobs.keys())\n",
        "country_list = list(country_cities.keys())"
      ],
      "metadata": {
        "id": "k0oSP-ISqZeP"
      },
      "execution_count": 11,
      "outputs": []
    },
    {
      "cell_type": "code",
      "source": [
        "for _ in range(num_employees):\n",
        "  selected_department = random.choice(department_list)\n",
        "  selected_job_title = random.choice(department_jobs[selected_department])\n",
        "\n",
        "  dept_code = department_codes[selected_department]\n",
        "  id_number = department_counters[dept_code]\n",
        "  employee_id = f'{dept_code}{id_number}'\n",
        "\n",
        "  department_counters[dept_code] += 1\n",
        "\n",
        "  selected_country = random.choice(country_list)\n",
        "  selected_city = random.choice(country_cities[selected_country])\n",
        "  selected_work_model = random.choice(work_models)\n",
        "\n",
        "  experience = random.randint(0,25)\n",
        "  tenure = random.randint(0,experience)\n",
        "  age = experience + random.randint(18,24)\n",
        "\n",
        "  comp_data.append({\n",
        "      'employee_id':employee_id,\n",
        "      'job_title':selected_job_title,\n",
        "      'department':selected_department,\n",
        "      'city':selected_city,\n",
        "      'country':selected_country,\n",
        "      'work_model':selected_work_model,\n",
        "      'experience_years':experience,\n",
        "      'tenure':tenure,\n",
        "      'age':age,\n",
        "      'performance_rating':round(random.uniform(1,5),1),\n",
        "      'education_level':random.choice(['Bachelor','Master','PhD']),\n",
        "      'base_salary':random.randint(40000,350000),\n",
        "      'bonus':random.randint(1000,75000),\n",
        "      'stock_options':random.randint(10000,250000)\n",
        "  })"
      ],
      "metadata": {
        "id": "HFtJBWc3jCiS"
      },
      "execution_count": 12,
      "outputs": []
    },
    {
      "cell_type": "code",
      "source": [
        "df_compensation = pl.DataFrame(comp_data)"
      ],
      "metadata": {
        "id": "iUruNUqUu2B7"
      },
      "execution_count": 13,
      "outputs": []
    },
    {
      "cell_type": "code",
      "source": [
        "saved_csv=df_compensation.write_csv('employee_compensation_data.csv')\n",
        "print(f'Compensation Data for {num_employees} employees generated and saved to employee_compensation_data ')"
      ],
      "metadata": {
        "colab": {
          "base_uri": "https://localhost:8080/"
        },
        "id": "53bBIhuuu9Fe",
        "outputId": "3123faba-9065-4560-964c-b79e6a5e1589"
      },
      "execution_count": 14,
      "outputs": [
        {
          "output_type": "stream",
          "name": "stdout",
          "text": [
            "Compensation Data for 100000 employees generated and saved to employee_compensation_data \n"
          ]
        }
      ]
    }
  ]
}